{
 "cells": [
  {
   "attachments": {},
   "cell_type": "markdown",
   "metadata": {},
   "source": [
    "```python\n",
    "print()\n",
    "```\n",
    "\n",
    "**print (object(s), sep, end, file, flush)**\n"
   ]
  },
  {
   "attachments": {},
   "cell_type": "markdown",
   "metadata": {},
   "source": [
    "\n",
    "objects= string , list, tuple\n",
    "\n",
    "optional parameters\n",
    "\n",
    "1.sep =\"\"\n",
    "2.end=\"\\n\"\n",
    "3.file= used when writing on or over a file | default=sys.stdout\n",
    "5.flush=\"False\" -boolien parameter - available in Python 3.x or later versions.\n"
   ]
  },
  {
   "cell_type": "code",
   "execution_count": 79,
   "metadata": {},
   "outputs": [
    {
     "name": "stdout",
     "output_type": "stream",
     "text": [
      "Hello Coders\n"
     ]
    }
   ],
   "source": [
    "print(\"Hello Coders\")\n",
    "int = 3\n",
    "list1=[1,2,3]\n",
    "tuple=(\"A\",\"B\")\n",
    "strng=\"welcome to YcodeY\""
   ]
  },
  {
   "cell_type": "code",
   "execution_count": 80,
   "metadata": {},
   "outputs": [
    {
     "name": "stdout",
     "output_type": "stream",
     "text": [
      "3   [1, 2, 3]   ('A', 'B')   welcome to YcodeY\n"
     ]
    }
   ],
   "source": [
    "print(int,list1,tuple,strng,sep=\"   \")"
   ]
  },
  {
   "cell_type": "code",
   "execution_count": 83,
   "metadata": {},
   "outputs": [
    {
     "name": "stdout",
     "output_type": "stream",
     "text": [
      "8/Jan/2023 > Day 1\n"
     ]
    }
   ],
   "source": [
    "\n",
    "month= \"Jan\"\n",
    "day = 8\n",
    "year = 2023\n",
    "print(day,month,year,sep=\"/\",end=\" > \")\n",
    "\n",
    "print(\"Day 1\")"
   ]
  },
  {
   "cell_type": "code",
   "execution_count": 86,
   "metadata": {},
   "outputs": [
    {
     "name": "stdout",
     "output_type": "stream",
     "text": [
      "8/Jan/2023 > day1\n",
      "\n"
     ]
    }
   ],
   "source": [
    "Newfile = open(\"dates.txt\", \"w\")\n",
    "\n",
    "print(day, month, year, file=Newfile, sep = \"/\",end=\" > \")\n",
    "print(\"day1\" ,file=Newfile)\n",
    "\n",
    "# close the file\n",
    "Newfile.close()\n",
    "\n",
    "Myfile= open(\"dates.txt\", \"r\")\n",
    "print(Myfile.read())\n",
    "Myfile.close()"
   ]
  },
  {
   "cell_type": "code",
   "execution_count": 87,
   "metadata": {},
   "outputs": [
    {
     "name": "stdout",
     "output_type": "stream",
     "text": [
      "8/Jan/2023\n",
      "My birthday is on 8 / Jan / 2023\n"
     ]
    }
   ],
   "source": [
    "print(day,month,year,sep=\"/\")\n",
    "print(\"My birthday is on %i / %s / %i\" %(day,month,year))"
   ]
  },
  {
   "attachments": {},
   "cell_type": "markdown",
   "metadata": {},
   "source": [
    "```python\n",
    "format()\n",
    "f\"\"\n",
    "```"
   ]
  },
  {
   "cell_type": "code",
   "execution_count": 89,
   "metadata": {},
   "outputs": [
    {
     "name": "stdout",
     "output_type": "stream",
     "text": [
      "My birthday is on 8/Jan/2023\n"
     ]
    }
   ],
   "source": [
    "date = \"{0}/{1}/{2}\".format(day,month,year)\n",
    "print(f\"My birthday is on {date}\")"
   ]
  }
 ],
 "metadata": {
  "kernelspec": {
   "display_name": "Python 3",
   "language": "python",
   "name": "python3"
  },
  "language_info": {
   "codemirror_mode": {
    "name": "ipython",
    "version": 3
   },
   "file_extension": ".py",
   "mimetype": "text/x-python",
   "name": "python",
   "nbconvert_exporter": "python",
   "pygments_lexer": "ipython3",
   "version": "3.9.6"
  },
  "orig_nbformat": 4,
  "vscode": {
   "interpreter": {
    "hash": "a47e1e2c49c050a34b8a1fd5e73ef0ffb5353ba12db54c1637a8441d5d8b2e0f"
   }
  }
 },
 "nbformat": 4,
 "nbformat_minor": 2
}
